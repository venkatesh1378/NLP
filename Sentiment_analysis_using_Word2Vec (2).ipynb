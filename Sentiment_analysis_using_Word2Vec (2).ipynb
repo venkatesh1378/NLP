{
  "cells": [
    {
      "cell_type": "code",
      "execution_count": null,
      "metadata": {
        "id": "YguM5f2gRrTf"
      },
      "outputs": [],
      "source": []
    },
    {
      "cell_type": "code",
      "execution_count": null,
      "metadata": {
        "id": "id6ZirCFWEil"
      },
      "outputs": [],
      "source": [
        "import pandas as pd\n",
        "from sklearn.model_selection import train_test_split\n",
        "from nltk.corpus import stopwords\n",
        "from nltk.tokenize import word_tokenize\n",
        "import string\n",
        "from gensim.models import Word2Vec\n",
        "import numpy as np\n",
        "from sklearn.linear_model import LogisticRegression\n",
        "from sklearn.metrics import accuracy_score, precision_score, recall_score, f1_score"
      ]
    },
    {
      "cell_type": "code",
      "execution_count": null,
      "metadata": {
        "id": "UlHAlVPXWF8J"
      },
      "outputs": [],
      "source": [
        "data = pd.read_csv('/content/IMDB Dataset.csv')\n"
      ]
    },
    {
      "cell_type": "code",
      "execution_count": null,
      "metadata": {
        "id": "EuNg1kVEW3Zg"
      },
      "outputs": [],
      "source": [
        "X_train, X_test, y_train, y_test = train_test_split(data['review'], data['sentiment'], test_size=0.2, random_state=42)"
      ]
    },
    {
      "cell_type": "code",
      "execution_count": null,
      "metadata": {
        "colab": {
          "base_uri": "https://localhost:8080/"
        },
        "id": "E1cCTSd0XCXW",
        "outputId": "76e146b3-2ed6-463a-aec8-db8c32549e30"
      },
      "outputs": [
        {
          "name": "stderr",
          "output_type": "stream",
          "text": [
            "[nltk_data] Downloading package stopwords to /root/nltk_data...\n",
            "[nltk_data]   Package stopwords is already up-to-date!\n",
            "[nltk_data] Downloading package punkt to /root/nltk_data...\n",
            "[nltk_data]   Package punkt is already up-to-date!\n"
          ]
        },
        {
          "data": {
            "text/plain": [
              "True"
            ]
          },
          "execution_count": 32,
          "metadata": {},
          "output_type": "execute_result"
        }
      ],
      "source": [
        "import nltk\n",
        "nltk.download('stopwords')\n",
        "nltk.download('punkt')"
      ]
    },
    {
      "cell_type": "code",
      "execution_count": null,
      "metadata": {
        "id": "QHljuVwZW545"
      },
      "outputs": [],
      "source": [
        "stop_words = set(stopwords.words('english'))\n",
        "def preprocess(text):\n",
        "    text = text.lower()\n",
        "    text = ''.join([word for word in text if word not in string.punctuation])\n",
        "    tokens = word_tokenize(text)\n",
        "    tokens = [word for word in tokens if word not in stop_words]\n",
        "    return ' '.join(tokens)\n",
        "X_train = X_train.apply(preprocess)\n",
        "X_test = X_test.apply(preprocess)"
      ]
    },
    {
      "cell_type": "code",
      "execution_count": null,
      "metadata": {
        "colab": {
          "base_uri": "https://localhost:8080/"
        },
        "id": "HXQdvwZYXRGF",
        "outputId": "892c41a4-3ed4-475f-99c2-33e9a099791d"
      },
      "outputs": [
        {
          "data": {
            "text/plain": [
              "40000"
            ]
          },
          "execution_count": 34,
          "metadata": {},
          "output_type": "execute_result"
        }
      ],
      "source": [
        "# Train the Word2Vec model\n",
        "sentences = [sentence.split() for sentence in X_train]\n",
        "len(sentences)"
      ]
    },
    {
      "cell_type": "code",
      "execution_count": null,
      "metadata": {
        "id": "_h8SjgL2XW2a"
      },
      "outputs": [],
      "source": [
        "#sentences[0]"
      ]
    },
    {
      "cell_type": "markdown",
      "metadata": {
        "id": "c6Vq835PXgPJ"
      },
      "source": [
        "**size** - size of the vectors we want\n",
        "\n",
        "**window** - number words before and after the focus word that it’ll consider as context for the word\n",
        "\n",
        "**min_count** - the number of times a word must appear in our corpus in order to create a word vector."
      ]
    },
    {
      "cell_type": "code",
      "execution_count": null,
      "metadata": {
        "colab": {
          "base_uri": "https://localhost:8080/"
        },
        "id": "Q3IaM6zzXb7n",
        "outputId": "e34d4dae-a1dc-476c-fca5-50001f590b52"
      },
      "outputs": [
        {
          "data": {
            "text/plain": [
              "<gensim.models.word2vec.Word2Vec at 0x7984aecbd1b0>"
            ]
          },
          "execution_count": 36,
          "metadata": {},
          "output_type": "execute_result"
        }
      ],
      "source": [
        "w2v_model = Word2Vec(sentences, window=5, min_count=5, workers=4)\n",
        "w2v_model\n",
        "# default vector size =100"
      ]
    },
    {
      "cell_type": "code",
      "execution_count": null,
      "metadata": {
        "colab": {
          "base_uri": "https://localhost:8080/"
        },
        "id": "tUi2emKWYG0b",
        "outputId": "8d3316bf-0378-45eb-d607-1ff2277ee392"
      },
      "outputs": [
        {
          "data": {
            "text/plain": [
              "100"
            ]
          },
          "execution_count": 37,
          "metadata": {},
          "output_type": "execute_result"
        }
      ],
      "source": [
        " len(w2v_model.wv['king'])"
      ]
    },
    {
      "cell_type": "code",
      "execution_count": null,
      "metadata": {
        "colab": {
          "base_uri": "https://localhost:8080/"
        },
        "id": "Javkhyr-fdPv",
        "outputId": "41680d1e-3933-4716-99df-ee5a6ac9420f"
      },
      "outputs": [
        {
          "data": {
            "text/plain": [
              "4909013"
            ]
          },
          "execution_count": 55,
          "metadata": {},
          "output_type": "execute_result"
        }
      ],
      "source": [
        "w2v_model.corpus_total_words"
      ]
    },
    {
      "cell_type": "code",
      "execution_count": null,
      "metadata": {
        "colab": {
          "base_uri": "https://localhost:8080/"
        },
        "id": "fG0SYA19f7dJ",
        "outputId": "3b127997-58bf-468f-c554-67fd0745a890"
      },
      "outputs": [
        {
          "data": {
            "text/plain": [
              "array([-3.4875197 , -0.49285665, -0.5574474 , -1.5697336 , -1.566729  ,\n",
              "        0.7710634 ,  0.14544046,  0.43272498, -1.9183277 , -0.09722184,\n",
              "       -0.6923074 ,  0.57944643, -0.7640464 ,  0.43099454, -0.83019716,\n",
              "       -0.79808944, -2.6484904 ,  1.4625328 ,  1.3030894 , -1.9428475 ,\n",
              "        1.5167134 , -0.36576596,  1.1755718 ,  0.90434635, -0.32360387,\n",
              "        1.3487542 ,  0.56138843, -1.0133168 ,  0.52807033,  0.37927973,\n",
              "        1.0407425 ,  0.05632415,  1.3257519 , -2.4423177 ,  1.1302959 ,\n",
              "       -0.85205   , -0.8646265 , -0.19433977, -0.03709116,  1.5930765 ,\n",
              "        1.6128613 , -1.9427443 , -0.1097806 , -0.20954257,  0.7646487 ,\n",
              "       -0.9439238 ,  1.8232895 ,  0.97349584,  3.4971685 , -0.08107027,\n",
              "        0.8760778 , -0.1041117 ,  1.1337668 , -0.375405  ,  0.18214068,\n",
              "        0.77326787,  0.18570873, -0.5225656 , -1.3268437 ,  0.74583346,\n",
              "       -0.07291199, -1.167465  ,  1.409725  ,  0.2302648 ,  1.1744374 ,\n",
              "       -1.3951638 , -1.7551328 ,  1.5370421 , -2.4932158 , -1.4222717 ,\n",
              "       -0.46928725, -0.7082705 ,  2.3712125 ,  1.4765127 , -1.6672958 ,\n",
              "        1.8116018 , -0.1107315 ,  0.14025962,  2.2315366 ,  1.9706221 ,\n",
              "        0.95446354, -1.5518866 ,  0.8936364 ,  0.5391654 , -1.6317011 ,\n",
              "        1.500935  ,  0.5267223 , -0.5411609 , -1.157335  , -2.3678474 ,\n",
              "        1.466488  ,  2.1711552 , -1.7351869 , -0.9937294 , -0.9323639 ,\n",
              "       -0.07273313, -1.0422683 , -1.4918033 , -1.3017265 , -0.43277854],\n",
              "      dtype=float32)"
            ]
          },
          "execution_count": 56,
          "metadata": {},
          "output_type": "execute_result"
        }
      ],
      "source": [
        "w2v_model.wv['good']"
      ]
    },
    {
      "cell_type": "markdown",
      "metadata": {
        "id": "3eofcnQf7saQ"
      },
      "source": [
        "words and vectors are ready\n",
        "\n",
        "now we need to apply our entire IMDB data\n",
        "\n",
        "IMDB data has sentences\n",
        "\n",
        "will divide sentences into words\n",
        "\n",
        "if that words is present in word2vec corpus words, then take the vector\n",
        "\n",
        "other wise create zeros :  100\n",
        "\n",
        "we are making our vetors values follows normal distribution"
      ]
    },
    {
      "cell_type": "code",
      "execution_count": null,
      "metadata": {
        "id": "ry7XUrWPYmiA"
      },
      "outputs": [],
      "source": [
        "def vectorize(sentence):\n",
        "    words = sentence.split()\n",
        "    words_vecs = [w2v_model.wv[word] for word in words if word in w2v_model.wv]\n",
        "    if len(words_vecs) == 0:\n",
        "        return np.zeros(100)\n",
        "    words_vecs = np.array(words_vecs)\n",
        "    return words_vecs.mean(axis=0)"
      ]
    },
    {
      "cell_type": "code",
      "execution_count": null,
      "metadata": {
        "id": "QFL7EeR_YrV3"
      },
      "outputs": [],
      "source": [
        "X_train = np.array([vectorize(sentence) for sentence in X_train])\n",
        "X_test = np.array([vectorize(sentence) for sentence in X_test])"
      ]
    },
    {
      "cell_type": "code",
      "execution_count": null,
      "metadata": {
        "colab": {
          "base_uri": "https://localhost:8080/"
        },
        "id": "yUsJTo_zYvQM",
        "outputId": "70261e69-805d-4237-fb33-9694ef49fb1f"
      },
      "outputs": [
        {
          "data": {
            "text/plain": [
              "array([[-0.2175317 , -0.01577758, -0.28129667, ..., -0.22637348,\n",
              "         0.02357836, -0.11499496],\n",
              "       [-0.38095993,  0.26054677, -0.38907468, ..., -0.18700446,\n",
              "         0.36892644,  0.01622834],\n",
              "       [-0.07324207,  0.31958258, -0.25434   , ..., -0.1567662 ,\n",
              "         0.01335562, -0.12557718],\n",
              "       ...,\n",
              "       [-0.54025376,  0.22640626, -0.47463638, ..., -0.55514383,\n",
              "         0.5149265 , -0.27207023],\n",
              "       [-0.1520919 ,  0.19746286, -0.40588364, ...,  0.1557377 ,\n",
              "        -0.0241629 , -0.31732407],\n",
              "       [-0.7054488 ,  0.28674474, -0.2872601 , ...,  0.14160162,\n",
              "         0.03845504, -0.30477515]], dtype=float32)"
            ]
          },
          "execution_count": 40,
          "metadata": {},
          "output_type": "execute_result"
        }
      ],
      "source": [
        "X_train"
      ]
    },
    {
      "cell_type": "code",
      "execution_count": null,
      "metadata": {
        "colab": {
          "base_uri": "https://localhost:8080/"
        },
        "id": "e-aCgRNnZCLR",
        "outputId": "8502a2d7-b890-4abf-8d0e-5fe8390af6db"
      },
      "outputs": [
        {
          "data": {
            "text/plain": [
              "(100, 40000)"
            ]
          },
          "execution_count": 44,
          "metadata": {},
          "output_type": "execute_result"
        }
      ],
      "source": [
        "len(X_train[0]),len(X_train)"
      ]
    },
    {
      "cell_type": "code",
      "execution_count": null,
      "metadata": {
        "colab": {
          "base_uri": "https://localhost:8080/"
        },
        "id": "H_XlWJ6IZs1O",
        "outputId": "4fda8758-f378-4c67-b19d-44f7b2c45ffd"
      },
      "outputs": [
        {
          "name": "stderr",
          "output_type": "stream",
          "text": [
            "/usr/local/lib/python3.10/dist-packages/sklearn/linear_model/_logistic.py:458: ConvergenceWarning: lbfgs failed to converge (status=1):\n",
            "STOP: TOTAL NO. of ITERATIONS REACHED LIMIT.\n",
            "\n",
            "Increase the number of iterations (max_iter) or scale the data as shown in:\n",
            "    https://scikit-learn.org/stable/modules/preprocessing.html\n",
            "Please also refer to the documentation for alternative solver options:\n",
            "    https://scikit-learn.org/stable/modules/linear_model.html#logistic-regression\n",
            "  n_iter_i = _check_optimize_result(\n"
          ]
        },
        {
          "name": "stdout",
          "output_type": "stream",
          "text": [
            "Accuracy: 0.8574\n",
            "Precision: 0.8500290641348576\n",
            "Recall: 0.8706092478666402\n",
            "F1 score: 0.8601960784313726\n"
          ]
        }
      ],
      "source": [
        "# Train a classification model\n",
        "clf = LogisticRegression()\n",
        "clf.fit(X_train, y_train)\n",
        "# Evaluate the model\n",
        "y_pred = ##########\n",
        "\n",
        "print('Accuracy:', accuracy_score(y_test, y_pred))\n",
        "print('Precision:', precision_score(y_test, y_pred, pos_label='positive'))\n",
        "print('Recall:', recall_score(y_test, y_pred, pos_label='positive'))\n",
        "print('F1 score:', f1_score(y_test, y_pred, pos_label='positive'))"
      ]
    },
    {
      "cell_type": "code",
      "execution_count": null,
      "metadata": {
        "colab": {
          "base_uri": "https://localhost:8080/"
        },
        "id": "j7s_LovBaCzQ",
        "outputId": "404cd623-763b-4822-8844-12d5d8bf7ee2"
      },
      "outputs": [
        {
          "name": "stdout",
          "output_type": "stream",
          "text": [
            "1\n"
          ]
        },
        {
          "data": {
            "text/plain": [
              "array(['negative'], dtype=object)"
            ]
          },
          "execution_count": 51,
          "metadata": {},
          "output_type": "execute_result"
        }
      ],
      "source": [
        "X_test='movie direction is good, but not a good story'\n",
        "X_test = preprocess(X_test)\n",
        "X_test = np.array([vectorize(X_test)])\n",
        "print(len(X_test))\n",
        "clf.predict(X_test)"
      ]
    }
  ],
  "metadata": {
    "colab": {
      "provenance": []
    },
    "kernelspec": {
      "display_name": "Python 3",
      "name": "python3"
    },
    "language_info": {
      "name": "python"
    }
  },
  "nbformat": 4,
  "nbformat_minor": 0
}
